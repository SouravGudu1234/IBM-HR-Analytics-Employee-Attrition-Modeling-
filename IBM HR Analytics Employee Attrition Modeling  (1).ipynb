{
 "cells": [
  {
   "cell_type": "code",
   "execution_count": 58,
   "metadata": {},
   "outputs": [],
   "source": [
    "import numpy as np \n",
    "import pandas as pd \n",
    "import tensorflow as tf\n",
    "import matplotlib.pyplot as plt\n",
    "%matplotlib inline\n",
    "from patsy import dmatrices\n",
    "import sklearn\n",
    "import seaborn as sns"
   ]
  },
  {
   "cell_type": "code",
   "execution_count": 10,
   "metadata": {},
   "outputs": [],
   "source": [
    "dataframe=pd.read_csv(\"IBM Attrition Data.csv\")"
   ]
  },
  {
   "cell_type": "code",
   "execution_count": 11,
   "metadata": {},
   "outputs": [
    {
     "data": {
      "text/html": [
       "<div>\n",
       "<style scoped>\n",
       "    .dataframe tbody tr th:only-of-type {\n",
       "        vertical-align: middle;\n",
       "    }\n",
       "\n",
       "    .dataframe tbody tr th {\n",
       "        vertical-align: top;\n",
       "    }\n",
       "\n",
       "    .dataframe thead th {\n",
       "        text-align: right;\n",
       "    }\n",
       "</style>\n",
       "<table border=\"1\" class=\"dataframe\">\n",
       "  <thead>\n",
       "    <tr style=\"text-align: right;\">\n",
       "      <th></th>\n",
       "      <th>Age</th>\n",
       "      <th>Attrition</th>\n",
       "      <th>Department</th>\n",
       "      <th>DistanceFromHome</th>\n",
       "      <th>Education</th>\n",
       "      <th>EducationField</th>\n",
       "      <th>EnvironmentSatisfaction</th>\n",
       "      <th>JobSatisfaction</th>\n",
       "      <th>MaritalStatus</th>\n",
       "      <th>MonthlyIncome</th>\n",
       "      <th>NumCompaniesWorked</th>\n",
       "      <th>WorkLifeBalance</th>\n",
       "      <th>YearsAtCompany</th>\n",
       "    </tr>\n",
       "  </thead>\n",
       "  <tbody>\n",
       "    <tr>\n",
       "      <th>0</th>\n",
       "      <td>41</td>\n",
       "      <td>Yes</td>\n",
       "      <td>Sales</td>\n",
       "      <td>1</td>\n",
       "      <td>2</td>\n",
       "      <td>Life Sciences</td>\n",
       "      <td>2</td>\n",
       "      <td>4</td>\n",
       "      <td>Single</td>\n",
       "      <td>5993</td>\n",
       "      <td>8</td>\n",
       "      <td>1</td>\n",
       "      <td>6</td>\n",
       "    </tr>\n",
       "    <tr>\n",
       "      <th>1</th>\n",
       "      <td>49</td>\n",
       "      <td>No</td>\n",
       "      <td>Research &amp; Development</td>\n",
       "      <td>8</td>\n",
       "      <td>1</td>\n",
       "      <td>Life Sciences</td>\n",
       "      <td>3</td>\n",
       "      <td>2</td>\n",
       "      <td>Married</td>\n",
       "      <td>5130</td>\n",
       "      <td>1</td>\n",
       "      <td>3</td>\n",
       "      <td>10</td>\n",
       "    </tr>\n",
       "    <tr>\n",
       "      <th>2</th>\n",
       "      <td>37</td>\n",
       "      <td>Yes</td>\n",
       "      <td>Research &amp; Development</td>\n",
       "      <td>2</td>\n",
       "      <td>2</td>\n",
       "      <td>Other</td>\n",
       "      <td>4</td>\n",
       "      <td>3</td>\n",
       "      <td>Single</td>\n",
       "      <td>2090</td>\n",
       "      <td>6</td>\n",
       "      <td>3</td>\n",
       "      <td>0</td>\n",
       "    </tr>\n",
       "    <tr>\n",
       "      <th>3</th>\n",
       "      <td>33</td>\n",
       "      <td>No</td>\n",
       "      <td>Research &amp; Development</td>\n",
       "      <td>3</td>\n",
       "      <td>4</td>\n",
       "      <td>Life Sciences</td>\n",
       "      <td>4</td>\n",
       "      <td>3</td>\n",
       "      <td>Married</td>\n",
       "      <td>2909</td>\n",
       "      <td>1</td>\n",
       "      <td>3</td>\n",
       "      <td>8</td>\n",
       "    </tr>\n",
       "    <tr>\n",
       "      <th>4</th>\n",
       "      <td>27</td>\n",
       "      <td>No</td>\n",
       "      <td>Research &amp; Development</td>\n",
       "      <td>2</td>\n",
       "      <td>1</td>\n",
       "      <td>Medical</td>\n",
       "      <td>1</td>\n",
       "      <td>2</td>\n",
       "      <td>Married</td>\n",
       "      <td>3468</td>\n",
       "      <td>9</td>\n",
       "      <td>3</td>\n",
       "      <td>2</td>\n",
       "    </tr>\n",
       "  </tbody>\n",
       "</table>\n",
       "</div>"
      ],
      "text/plain": [
       "   Age Attrition              Department  DistanceFromHome  Education  \\\n",
       "0   41       Yes                   Sales                 1          2   \n",
       "1   49        No  Research & Development                 8          1   \n",
       "2   37       Yes  Research & Development                 2          2   \n",
       "3   33        No  Research & Development                 3          4   \n",
       "4   27        No  Research & Development                 2          1   \n",
       "\n",
       "  EducationField  EnvironmentSatisfaction  JobSatisfaction MaritalStatus  \\\n",
       "0  Life Sciences                        2                4        Single   \n",
       "1  Life Sciences                        3                2       Married   \n",
       "2          Other                        4                3        Single   \n",
       "3  Life Sciences                        4                3       Married   \n",
       "4        Medical                        1                2       Married   \n",
       "\n",
       "   MonthlyIncome  NumCompaniesWorked  WorkLifeBalance  YearsAtCompany  \n",
       "0           5993                   8                1               6  \n",
       "1           5130                   1                3              10  \n",
       "2           2090                   6                3               0  \n",
       "3           2909                   1                3               8  \n",
       "4           3468                   9                3               2  "
      ]
     },
     "execution_count": 11,
     "metadata": {},
     "output_type": "execute_result"
    }
   ],
   "source": [
    "dataframe.head()"
   ]
  },
  {
   "cell_type": "code",
   "execution_count": 12,
   "metadata": {},
   "outputs": [
    {
     "name": "stdout",
     "output_type": "stream",
     "text": [
      "['Age' 'Attrition' 'Department' 'DistanceFromHome' 'Education'\n",
      " 'EducationField' 'EnvironmentSatisfaction' 'JobSatisfaction'\n",
      " 'MaritalStatus' 'MonthlyIncome' 'NumCompaniesWorked' 'WorkLifeBalance'\n",
      " 'YearsAtCompany']\n"
     ]
    }
   ],
   "source": [
    "names = dataframe.columns.values\n",
    "print(names)"
   ]
  },
  {
   "cell_type": "code",
   "execution_count": 13,
   "metadata": {},
   "outputs": [
    {
     "data": {
      "image/png": "[encoded data removed]",
      "text/plain": [
       "<Figure size 720x576 with 1 Axes>"
      ]
     },
     "metadata": {
      "needs_background": "light"
     },
     "output_type": "display_data"
    }
   ],
   "source": [
    "# histogram for age\n",
    "plt.figure(figsize=(10,8))\n",
    "dataframe['Age'].hist(bins=70)\n",
    "plt.title(\"Age distribution of Employees\")\n",
    "plt.xlabel(\"Age\")\n",
    "plt.ylabel(\"# of Employees\")\n",
    "plt.show()"
   ]
  },
  {
   "cell_type": "code",
   "execution_count": 14,
   "metadata": {},
   "outputs": [
    {
     "name": "stderr",
     "output_type": "stream",
     "text": [
      "/usr/local/lib/python3.7/site-packages/ipykernel_launcher.py:6: MatplotlibDeprecationWarning: The 'b' parameter of grid() has been renamed 'visible' since Matplotlib 3.5; support for the old name will be dropped two minor releases later.\n",
      "  \n"
     ]
    },
    {
     "data": {
      "image/png": "[encoded data removed]",
      "text/plain": [
       "<Figure size 1008x720 with 1 Axes>"
      ]
     },
     "metadata": {
      "needs_background": "light"
     },
     "output_type": "display_data"
    }
   ],
   "source": [
    "#attrition by age\n",
    "plt.figure(figsize=(14,10))\n",
    "plt.scatter(dataframe.Attrition,dataframe.Age, alpha=.55)\n",
    "plt.title(\"Attrition by Age \")\n",
    "plt.ylabel(\"Age\")\n",
    "plt.grid(b=True, which='major',axis='y')\n",
    "plt.show()"
   ]
  },
  {
   "cell_type": "code",
   "execution_count": 15,
   "metadata": {},
   "outputs": [
    {
     "data": {
      "image/png": "[encoded data removed]",
      "text/plain": [
       "<Figure size 576x432 with 1 Axes>"
      ]
     },
     "metadata": {
      "needs_background": "light"
     },
     "output_type": "display_data"
    }
   ],
   "source": [
    "#Explore data for left employees\n",
    "plt.figure(figsize=(8,6))\n",
    "dataframe.Attrition.value_counts().plot(kind='barh',color='blue',alpha=.65)\n",
    "plt.title(\"Attrition breakdown \")\n",
    "plt.show()"
   ]
  },
  {
   "cell_type": "code",
   "execution_count": 16,
   "metadata": {},
   "outputs": [
    {
     "data": {
      "image/png": "[encoded data removed]",
      "text/plain": [
       "<Figure size 720x576 with 1 Axes>"
      ]
     },
     "metadata": {
      "needs_background": "light"
     },
     "output_type": "display_data"
    }
   ],
   "source": [
    "#explore the data from education distribution\n",
    "plt.figure(figsize=(10,8))\n",
    "dataframe.EducationField.value_counts().plot(kind='barh',color='g',alpha=.65)\n",
    "plt.title(\"Education Field Distribution\")\n",
    "plt.show()"
   ]
  },
  {
   "cell_type": "code",
   "execution_count": 19,
   "metadata": {},
   "outputs": [
    {
     "data": {
      "image/png": "[encoded data removed]",
      "text/plain": [
       "<Figure size 576x432 with 1 Axes>"
      ]
     },
     "metadata": {
      "needs_background": "light"
     },
     "output_type": "display_data"
    }
   ],
   "source": [
    "# explore data for Marital Status\n",
    "plt.figure(figsize=(8,6))\n",
    "dataframe.MaritalStatus.value_counts().plot(kind='bar',alpha=.5)\n",
    "plt.show()"
   ]
  },
  {
   "cell_type": "code",
   "execution_count": 21,
   "metadata": {},
   "outputs": [
    {
     "data": {
      "text/html": [
       "<div>\n",
       "<style scoped>\n",
       "    .dataframe tbody tr th:only-of-type {\n",
       "        vertical-align: middle;\n",
       "    }\n",
       "\n",
       "    .dataframe tbody tr th {\n",
       "        vertical-align: top;\n",
       "    }\n",
       "\n",
       "    .dataframe thead th {\n",
       "        text-align: right;\n",
       "    }\n",
       "</style>\n",
       "<table border=\"1\" class=\"dataframe\">\n",
       "  <thead>\n",
       "    <tr style=\"text-align: right;\">\n",
       "      <th></th>\n",
       "      <th>Age</th>\n",
       "      <th>DistanceFromHome</th>\n",
       "      <th>Education</th>\n",
       "      <th>EnvironmentSatisfaction</th>\n",
       "      <th>JobSatisfaction</th>\n",
       "      <th>MonthlyIncome</th>\n",
       "      <th>NumCompaniesWorked</th>\n",
       "      <th>WorkLifeBalance</th>\n",
       "      <th>YearsAtCompany</th>\n",
       "    </tr>\n",
       "  </thead>\n",
       "  <tbody>\n",
       "    <tr>\n",
       "      <th>count</th>\n",
       "      <td>1470.000000</td>\n",
       "      <td>1470.000000</td>\n",
       "      <td>1470.000000</td>\n",
       "      <td>1470.000000</td>\n",
       "      <td>1470.000000</td>\n",
       "      <td>1470.000000</td>\n",
       "      <td>1470.000000</td>\n",
       "      <td>1470.000000</td>\n",
       "      <td>1470.000000</td>\n",
       "    </tr>\n",
       "    <tr>\n",
       "      <th>mean</th>\n",
       "      <td>36.923810</td>\n",
       "      <td>9.192517</td>\n",
       "      <td>2.912925</td>\n",
       "      <td>2.721769</td>\n",
       "      <td>2.728571</td>\n",
       "      <td>6502.931293</td>\n",
       "      <td>2.693197</td>\n",
       "      <td>2.761224</td>\n",
       "      <td>7.008163</td>\n",
       "    </tr>\n",
       "    <tr>\n",
       "      <th>std</th>\n",
       "      <td>9.135373</td>\n",
       "      <td>8.106864</td>\n",
       "      <td>1.024165</td>\n",
       "      <td>1.093082</td>\n",
       "      <td>1.102846</td>\n",
       "      <td>4707.956783</td>\n",
       "      <td>2.498009</td>\n",
       "      <td>0.706476</td>\n",
       "      <td>6.126525</td>\n",
       "    </tr>\n",
       "    <tr>\n",
       "      <th>min</th>\n",
       "      <td>18.000000</td>\n",
       "      <td>1.000000</td>\n",
       "      <td>1.000000</td>\n",
       "      <td>1.000000</td>\n",
       "      <td>1.000000</td>\n",
       "      <td>1009.000000</td>\n",
       "      <td>0.000000</td>\n",
       "      <td>1.000000</td>\n",
       "      <td>0.000000</td>\n",
       "    </tr>\n",
       "    <tr>\n",
       "      <th>25%</th>\n",
       "      <td>30.000000</td>\n",
       "      <td>2.000000</td>\n",
       "      <td>2.000000</td>\n",
       "      <td>2.000000</td>\n",
       "      <td>2.000000</td>\n",
       "      <td>2911.000000</td>\n",
       "      <td>1.000000</td>\n",
       "      <td>2.000000</td>\n",
       "      <td>3.000000</td>\n",
       "    </tr>\n",
       "    <tr>\n",
       "      <th>50%</th>\n",
       "      <td>36.000000</td>\n",
       "      <td>7.000000</td>\n",
       "      <td>3.000000</td>\n",
       "      <td>3.000000</td>\n",
       "      <td>3.000000</td>\n",
       "      <td>4919.000000</td>\n",
       "      <td>2.000000</td>\n",
       "      <td>3.000000</td>\n",
       "      <td>5.000000</td>\n",
       "    </tr>\n",
       "    <tr>\n",
       "      <th>75%</th>\n",
       "      <td>43.000000</td>\n",
       "      <td>14.000000</td>\n",
       "      <td>4.000000</td>\n",
       "      <td>4.000000</td>\n",
       "      <td>4.000000</td>\n",
       "      <td>8379.000000</td>\n",
       "      <td>4.000000</td>\n",
       "      <td>3.000000</td>\n",
       "      <td>9.000000</td>\n",
       "    </tr>\n",
       "    <tr>\n",
       "      <th>max</th>\n",
       "      <td>60.000000</td>\n",
       "      <td>29.000000</td>\n",
       "      <td>5.000000</td>\n",
       "      <td>4.000000</td>\n",
       "      <td>4.000000</td>\n",
       "      <td>19999.000000</td>\n",
       "      <td>9.000000</td>\n",
       "      <td>4.000000</td>\n",
       "      <td>40.000000</td>\n",
       "    </tr>\n",
       "  </tbody>\n",
       "</table>\n",
       "</div>"
      ],
      "text/plain": [
       "               Age  DistanceFromHome    Education  EnvironmentSatisfaction  \\\n",
       "count  1470.000000       1470.000000  1470.000000              1470.000000   \n",
       "mean     36.923810          9.192517     2.912925                 2.721769   \n",
       "std       9.135373          8.106864     1.024165                 1.093082   \n",
       "min      18.000000          1.000000     1.000000                 1.000000   \n",
       "25%      30.000000          2.000000     2.000000                 2.000000   \n",
       "50%      36.000000          7.000000     3.000000                 3.000000   \n",
       "75%      43.000000         14.000000     4.000000                 4.000000   \n",
       "max      60.000000         29.000000     5.000000                 4.000000   \n",
       "\n",
       "       JobSatisfaction  MonthlyIncome  NumCompaniesWorked  WorkLifeBalance  \\\n",
       "count      1470.000000    1470.000000         1470.000000      1470.000000   \n",
       "mean          2.728571    6502.931293            2.693197         2.761224   \n",
       "std           1.102846    4707.956783            2.498009         0.706476   \n",
       "min           1.000000    1009.000000            0.000000         1.000000   \n",
       "25%           2.000000    2911.000000            1.000000         2.000000   \n",
       "50%           3.000000    4919.000000            2.000000         3.000000   \n",
       "75%           4.000000    8379.000000            4.000000         3.000000   \n",
       "max           4.000000   19999.000000            9.000000         4.000000   \n",
       "\n",
       "       YearsAtCompany  \n",
       "count     1470.000000  \n",
       "mean         7.008163  \n",
       "std          6.126525  \n",
       "min          0.000000  \n",
       "25%          3.000000  \n",
       "50%          5.000000  \n",
       "75%          9.000000  \n",
       "max         40.000000  "
      ]
     },
     "execution_count": 21,
     "metadata": {},
     "output_type": "execute_result"
    }
   ],
   "source": [
    "dataframe.describe()"
   ]
  },
  {
   "cell_type": "code",
   "execution_count": 22,
   "metadata": {},
   "outputs": [
    {
     "name": "stdout",
     "output_type": "stream",
     "text": [
      "<class 'pandas.core.frame.DataFrame'>\n",
      "RangeIndex: 1470 entries, 0 to 1469\n",
      "Data columns (total 13 columns):\n",
      " #   Column                   Non-Null Count  Dtype \n",
      "---  ------                   --------------  ----- \n",
      " 0   Age                      1470 non-null   int64 \n",
      " 1   Attrition                1470 non-null   object\n",
      " 2   Department               1470 non-null   object\n",
      " 3   DistanceFromHome         1470 non-null   int64 \n",
      " 4   Education                1470 non-null   int64 \n",
      " 5   EducationField           1470 non-null   object\n",
      " 6   EnvironmentSatisfaction  1470 non-null   int64 \n",
      " 7   JobSatisfaction          1470 non-null   int64 \n",
      " 8   MaritalStatus            1470 non-null   object\n",
      " 9   MonthlyIncome            1470 non-null   int64 \n",
      " 10  NumCompaniesWorked       1470 non-null   int64 \n",
      " 11  WorkLifeBalance          1470 non-null   int64 \n",
      " 12  YearsAtCompany           1470 non-null   int64 \n",
      "dtypes: int64(9), object(4)\n",
      "memory usage: 149.4+ KB\n"
     ]
    }
   ],
   "source": [
    "dataframe.info()"
   ]
  },
  {
   "cell_type": "code",
   "execution_count": 24,
   "metadata": {},
   "outputs": [
    {
     "data": {
      "text/plain": [
       "Age                           9.135373\n",
       "DistanceFromHome              8.106864\n",
       "Education                     1.024165\n",
       "EnvironmentSatisfaction       1.093082\n",
       "JobSatisfaction               1.102846\n",
       "MonthlyIncome              4707.956783\n",
       "NumCompaniesWorked            2.498009\n",
       "WorkLifeBalance               0.706476\n",
       "YearsAtCompany                6.126525\n",
       "dtype: float64"
      ]
     },
     "execution_count": 24,
     "metadata": {},
     "output_type": "execute_result"
    }
   ],
   "source": [
    "dataframe.std()"
   ]
  },
  {
   "cell_type": "code",
   "execution_count": 26,
   "metadata": {},
   "outputs": [
    {
     "data": {
      "text/plain": [
       "No     1233\n",
       "Yes     237\n",
       "Name: Attrition, dtype: int64"
      ]
     },
     "execution_count": 26,
     "metadata": {},
     "output_type": "execute_result"
    }
   ],
   "source": [
    "dataframe['Attrition'].value_counts()"
   ]
  },
  {
   "cell_type": "code",
   "execution_count": 28,
   "metadata": {},
   "outputs": [
    {
     "data": {
      "text/plain": [
       "dtype('O')"
      ]
     },
     "execution_count": 28,
     "metadata": {},
     "output_type": "execute_result"
    }
   ],
   "source": [
    "dataframe['Attrition'].dtype"
   ]
  },
  {
   "cell_type": "code",
   "execution_count": 29,
   "metadata": {},
   "outputs": [],
   "source": [
    "dataframe['Attrition'].replace('Yes',1, inplace=True)\n",
    "dataframe['Attrition'].replace('No',0, inplace=True)"
   ]
  },
  {
   "cell_type": "code",
   "execution_count": 32,
   "metadata": {},
   "outputs": [
    {
     "data": {
      "text/html": [
       "<div>\n",
       "<style scoped>\n",
       "    .dataframe tbody tr th:only-of-type {\n",
       "        vertical-align: middle;\n",
       "    }\n",
       "\n",
       "    .dataframe tbody tr th {\n",
       "        vertical-align: top;\n",
       "    }\n",
       "\n",
       "    .dataframe thead th {\n",
       "        text-align: right;\n",
       "    }\n",
       "</style>\n",
       "<table border=\"1\" class=\"dataframe\">\n",
       "  <thead>\n",
       "    <tr style=\"text-align: right;\">\n",
       "      <th></th>\n",
       "      <th>Age</th>\n",
       "      <th>Attrition</th>\n",
       "      <th>Department</th>\n",
       "      <th>DistanceFromHome</th>\n",
       "      <th>Education</th>\n",
       "      <th>EducationField</th>\n",
       "      <th>EnvironmentSatisfaction</th>\n",
       "      <th>JobSatisfaction</th>\n",
       "      <th>MaritalStatus</th>\n",
       "      <th>MonthlyIncome</th>\n",
       "      <th>NumCompaniesWorked</th>\n",
       "      <th>WorkLifeBalance</th>\n",
       "      <th>YearsAtCompany</th>\n",
       "    </tr>\n",
       "  </thead>\n",
       "  <tbody>\n",
       "    <tr>\n",
       "      <th>0</th>\n",
       "      <td>41</td>\n",
       "      <td>1</td>\n",
       "      <td>Sales</td>\n",
       "      <td>1</td>\n",
       "      <td>2</td>\n",
       "      <td>Life Sciences</td>\n",
       "      <td>2</td>\n",
       "      <td>4</td>\n",
       "      <td>Single</td>\n",
       "      <td>5993</td>\n",
       "      <td>8</td>\n",
       "      <td>1</td>\n",
       "      <td>6</td>\n",
       "    </tr>\n",
       "    <tr>\n",
       "      <th>1</th>\n",
       "      <td>49</td>\n",
       "      <td>0</td>\n",
       "      <td>Research &amp; Development</td>\n",
       "      <td>8</td>\n",
       "      <td>1</td>\n",
       "      <td>Life Sciences</td>\n",
       "      <td>3</td>\n",
       "      <td>2</td>\n",
       "      <td>Married</td>\n",
       "      <td>5130</td>\n",
       "      <td>1</td>\n",
       "      <td>3</td>\n",
       "      <td>10</td>\n",
       "    </tr>\n",
       "    <tr>\n",
       "      <th>2</th>\n",
       "      <td>37</td>\n",
       "      <td>1</td>\n",
       "      <td>Research &amp; Development</td>\n",
       "      <td>2</td>\n",
       "      <td>2</td>\n",
       "      <td>Other</td>\n",
       "      <td>4</td>\n",
       "      <td>3</td>\n",
       "      <td>Single</td>\n",
       "      <td>2090</td>\n",
       "      <td>6</td>\n",
       "      <td>3</td>\n",
       "      <td>0</td>\n",
       "    </tr>\n",
       "    <tr>\n",
       "      <th>3</th>\n",
       "      <td>33</td>\n",
       "      <td>0</td>\n",
       "      <td>Research &amp; Development</td>\n",
       "      <td>3</td>\n",
       "      <td>4</td>\n",
       "      <td>Life Sciences</td>\n",
       "      <td>4</td>\n",
       "      <td>3</td>\n",
       "      <td>Married</td>\n",
       "      <td>2909</td>\n",
       "      <td>1</td>\n",
       "      <td>3</td>\n",
       "      <td>8</td>\n",
       "    </tr>\n",
       "    <tr>\n",
       "      <th>4</th>\n",
       "      <td>27</td>\n",
       "      <td>0</td>\n",
       "      <td>Research &amp; Development</td>\n",
       "      <td>2</td>\n",
       "      <td>1</td>\n",
       "      <td>Medical</td>\n",
       "      <td>1</td>\n",
       "      <td>2</td>\n",
       "      <td>Married</td>\n",
       "      <td>3468</td>\n",
       "      <td>9</td>\n",
       "      <td>3</td>\n",
       "      <td>2</td>\n",
       "    </tr>\n",
       "    <tr>\n",
       "      <th>5</th>\n",
       "      <td>32</td>\n",
       "      <td>0</td>\n",
       "      <td>Research &amp; Development</td>\n",
       "      <td>2</td>\n",
       "      <td>2</td>\n",
       "      <td>Life Sciences</td>\n",
       "      <td>4</td>\n",
       "      <td>4</td>\n",
       "      <td>Single</td>\n",
       "      <td>3068</td>\n",
       "      <td>0</td>\n",
       "      <td>2</td>\n",
       "      <td>7</td>\n",
       "    </tr>\n",
       "    <tr>\n",
       "      <th>6</th>\n",
       "      <td>59</td>\n",
       "      <td>0</td>\n",
       "      <td>Research &amp; Development</td>\n",
       "      <td>3</td>\n",
       "      <td>3</td>\n",
       "      <td>Medical</td>\n",
       "      <td>3</td>\n",
       "      <td>1</td>\n",
       "      <td>Married</td>\n",
       "      <td>2670</td>\n",
       "      <td>4</td>\n",
       "      <td>2</td>\n",
       "      <td>1</td>\n",
       "    </tr>\n",
       "    <tr>\n",
       "      <th>7</th>\n",
       "      <td>30</td>\n",
       "      <td>0</td>\n",
       "      <td>Research &amp; Development</td>\n",
       "      <td>24</td>\n",
       "      <td>1</td>\n",
       "      <td>Life Sciences</td>\n",
       "      <td>4</td>\n",
       "      <td>3</td>\n",
       "      <td>Divorced</td>\n",
       "      <td>2693</td>\n",
       "      <td>1</td>\n",
       "      <td>3</td>\n",
       "      <td>1</td>\n",
       "    </tr>\n",
       "    <tr>\n",
       "      <th>8</th>\n",
       "      <td>38</td>\n",
       "      <td>0</td>\n",
       "      <td>Research &amp; Development</td>\n",
       "      <td>23</td>\n",
       "      <td>3</td>\n",
       "      <td>Life Sciences</td>\n",
       "      <td>4</td>\n",
       "      <td>3</td>\n",
       "      <td>Single</td>\n",
       "      <td>9526</td>\n",
       "      <td>0</td>\n",
       "      <td>3</td>\n",
       "      <td>9</td>\n",
       "    </tr>\n",
       "    <tr>\n",
       "      <th>9</th>\n",
       "      <td>36</td>\n",
       "      <td>0</td>\n",
       "      <td>Research &amp; Development</td>\n",
       "      <td>27</td>\n",
       "      <td>3</td>\n",
       "      <td>Medical</td>\n",
       "      <td>3</td>\n",
       "      <td>3</td>\n",
       "      <td>Married</td>\n",
       "      <td>5237</td>\n",
       "      <td>6</td>\n",
       "      <td>2</td>\n",
       "      <td>7</td>\n",
       "    </tr>\n",
       "  </tbody>\n",
       "</table>\n",
       "</div>"
      ],
      "text/plain": [
       "   Age  Attrition              Department  DistanceFromHome  Education  \\\n",
       "0   41          1                   Sales                 1          2   \n",
       "1   49          0  Research & Development                 8          1   \n",
       "2   37          1  Research & Development                 2          2   \n",
       "3   33          0  Research & Development                 3          4   \n",
       "4   27          0  Research & Development                 2          1   \n",
       "5   32          0  Research & Development                 2          2   \n",
       "6   59          0  Research & Development                 3          3   \n",
       "7   30          0  Research & Development                24          1   \n",
       "8   38          0  Research & Development                23          3   \n",
       "9   36          0  Research & Development                27          3   \n",
       "\n",
       "  EducationField  EnvironmentSatisfaction  JobSatisfaction MaritalStatus  \\\n",
       "0  Life Sciences                        2                4        Single   \n",
       "1  Life Sciences                        3                2       Married   \n",
       "2          Other                        4                3        Single   \n",
       "3  Life Sciences                        4                3       Married   \n",
       "4        Medical                        1                2       Married   \n",
       "5  Life Sciences                        4                4        Single   \n",
       "6        Medical                        3                1       Married   \n",
       "7  Life Sciences                        4                3      Divorced   \n",
       "8  Life Sciences                        4                3        Single   \n",
       "9        Medical                        3                3       Married   \n",
       "\n",
       "   MonthlyIncome  NumCompaniesWorked  WorkLifeBalance  YearsAtCompany  \n",
       "0           5993                   8                1               6  \n",
       "1           5130                   1                3              10  \n",
       "2           2090                   6                3               0  \n",
       "3           2909                   1                3               8  \n",
       "4           3468                   9                3               2  \n",
       "5           3068                   0                2               7  \n",
       "6           2670                   4                2               1  \n",
       "7           2693                   1                3               1  \n",
       "8           9526                   0                3               9  \n",
       "9           5237                   6                2               7  "
      ]
     },
     "execution_count": 32,
     "metadata": {},
     "output_type": "execute_result"
    }
   ],
   "source": [
    "dataframe.head(10)"
   ]
  },
  {
   "cell_type": "code",
   "execution_count": 33,
   "metadata": {},
   "outputs": [
    {
     "data": {
      "text/plain": [
       "0    1\n",
       "1    0\n",
       "2    1\n",
       "3    0\n",
       "4    0\n",
       "Name: Attrition, dtype: int64"
      ]
     },
     "execution_count": 33,
     "metadata": {},
     "output_type": "execute_result"
    }
   ],
   "source": [
    "# building up a logistic regression model\n",
    "X = dataframe.drop(['Attrition'],axis=1)\n",
    "X.head()\n",
    "Y = dataframe['Attrition']\n",
    "Y.head()"
   ]
  },
  {
   "cell_type": "code",
   "execution_count": 34,
   "metadata": {},
   "outputs": [],
   "source": [
    "dataframe['EducationField'].replace('Life Sciences',1, inplace=True)\n",
    "dataframe['EducationField'].replace('Medical',2, inplace=True)\n",
    "dataframe['EducationField'].replace('Marketing', 3, inplace=True)\n",
    "dataframe['EducationField'].replace('Other',4, inplace=True)\n",
    "dataframe['EducationField'].replace('Technical Degree',5, inplace=True)\n",
    "dataframe['EducationField'].replace('Human Resources', 6, inplace=True)"
   ]
  },
  {
   "cell_type": "code",
   "execution_count": 35,
   "metadata": {},
   "outputs": [
    {
     "data": {
      "text/plain": [
       "1    606\n",
       "2    464\n",
       "3    159\n",
       "5    132\n",
       "4     82\n",
       "6     27\n",
       "Name: EducationField, dtype: int64"
      ]
     },
     "execution_count": 35,
     "metadata": {},
     "output_type": "execute_result"
    }
   ],
   "source": [
    "dataframe['EducationField'].value_counts()"
   ]
  },
  {
   "cell_type": "code",
   "execution_count": 36,
   "metadata": {},
   "outputs": [
    {
     "data": {
      "text/plain": [
       "Research & Development    961\n",
       "Sales                     446\n",
       "Human Resources            63\n",
       "Name: Department, dtype: int64"
      ]
     },
     "execution_count": 36,
     "metadata": {},
     "output_type": "execute_result"
    }
   ],
   "source": [
    "dataframe['Department'].value_counts()"
   ]
  },
  {
   "cell_type": "code",
   "execution_count": 56,
   "metadata": {},
   "outputs": [
    {
     "data": {
      "text/plain": [
       "Married     673\n",
       "Single      470\n",
       "Divorced    327\n",
       "Name: MaritalStatus, dtype: int64"
      ]
     },
     "execution_count": 56,
     "metadata": {},
     "output_type": "execute_result"
    }
   ],
   "source": [
    "dataframe['MaritalStatus'].value_counts()"
   ]
  },
  {
   "cell_type": "code",
   "execution_count": null,
   "metadata": {},
   "outputs": [],
   "source": []
  },
  {
   "cell_type": "code",
   "execution_count": 39,
   "metadata": {},
   "outputs": [
    {
     "data": {
      "text/plain": [
       "Age                        int64\n",
       "Attrition                  int64\n",
       "DistanceFromHome           int64\n",
       "Education                  int64\n",
       "EducationField             int64\n",
       "EnvironmentSatisfaction    int64\n",
       "JobSatisfaction            int64\n",
       "MonthlyIncome              int64\n",
       "NumCompaniesWorked         int64\n",
       "WorkLifeBalance            int64\n",
       "YearsAtCompany             int64\n",
       "dtype: object"
      ]
     },
     "execution_count": 39,
     "metadata": {},
     "output_type": "execute_result"
    }
   ],
   "source": [
    "x=dataframe.select_dtypes(include=['int64'])\n",
    "x.dtypes"
   ]
  },
  {
   "cell_type": "code",
   "execution_count": 41,
   "metadata": {},
   "outputs": [
    {
     "data": {
      "text/plain": [
       "Index(['Intercept', 'Department[T.Research & Development]',\n",
       "       'Department[T.Sales]', 'Age', 'DistanceFromHome', 'Education',\n",
       "       'EducationField', 'YearsAtCompany'],\n",
       "      dtype='object')"
      ]
     },
     "execution_count": 53,
     "metadata": {},
     "output_type": "execute_result"
    }
   ],
   "source": [
    "x.columns"
   ]
  },
  {
   "cell_type": "code",
   "execution_count": 44,
   "metadata": {},
   "outputs": [],
   "source": [
    "y=dataframe['Attrition']"
   ]
  },
  {
   "cell_type": "code",
   "execution_count": 45,
   "metadata": {},
   "outputs": [
    {
     "data": {
      "text/plain": [
       "0    1\n",
       "1    0\n",
       "2    1\n",
       "3    0\n",
       "4    0\n",
       "Name: Attrition, dtype: int64"
      ]
     },
     "execution_count": 45,
     "metadata": {},
     "output_type": "execute_result"
    }
   ],
   "source": [
    "y.head()"
   ]
  },
  {
   "cell_type": "code",
   "execution_count": 55,
   "metadata": {},
   "outputs": [
    {
     "name": "stdout",
     "output_type": "stream",
     "text": [
      "Index(['Intercept', 'Department[T.Research & Development]',\n",
      "       'Department[T.Sales]', 'Age', 'DistanceFromHome', 'Education',\n",
      "       'EducationField', 'YearsAtCompany'],\n",
      "      dtype='object')\n"
     ]
    }
   ],
   "source": [
    "y, x = dmatrices('Attrition ~ Age + Department + \\\n",
    "                  DistanceFromHome + Education + EducationField + YearsAtCompany',\n",
    "                  dataframe, return_type=\"dataframe\")\n",
    "print (x.columns)"
   ]
  },
  {
   "cell_type": "code",
   "execution_count": 59,
   "metadata": {},
   "outputs": [],
   "source": [
    "y=np.ravel(y)"
   ]
  },
  {
   "cell_type": "code",
   "execution_count": 63,
   "metadata": {},
   "outputs": [
    {
     "data": {
      "text/plain": [
       "0.8394557823129252"
      ]
     },
     "execution_count": 63,
     "metadata": {},
     "output_type": "execute_result"
    }
   ],
   "source": [
    "from sklearn.linear_model import LogisticRegression\n",
    "\n",
    "model = LogisticRegression()\n",
    "model = model.fit(x, y)\n",
    "\n",
    "# check the accuracy on the training set\n",
    "model.score(x, y)"
   ]
  },
  {
   "cell_type": "code",
   "execution_count": 64,
   "metadata": {},
   "outputs": [
    {
     "data": {
      "text/plain": [
       "0.16122448979591836"
      ]
     },
     "execution_count": 64,
     "metadata": {},
     "output_type": "execute_result"
    }
   ],
   "source": [
    "y.mean()"
   ]
  },
  {
   "cell_type": "code",
   "execution_count": 65,
   "metadata": {},
   "outputs": [
    {
     "data": {
      "text/plain": [
       "LogisticRegression()"
      ]
     },
     "execution_count": 65,
     "metadata": {},
     "output_type": "execute_result"
    }
   ],
   "source": [
    "X_train,X_test,y_train,y_test=sklearn.model_selection.train_test_split(x,y, test_size=0.3, random_state=0)\n",
    "model2=LogisticRegression()\n",
    "model2.fit(X_train, y_train)"
   ]
  },
  {
   "cell_type": "code",
   "execution_count": 66,
   "metadata": {},
   "outputs": [
    {
     "name": "stdout",
     "output_type": "stream",
     "text": [
      "[0. 0. 0. 0. 0. 0. 0. 0. 0. 0. 0. 0. 0. 0. 0. 0. 0. 0. 0. 0. 0. 0. 0. 0.\n",
      " 0. 0. 0. 0. 0. 0. 0. 0. 0. 0. 0. 0. 0. 0. 0. 0. 0. 0. 0. 0. 0. 0. 0. 0.\n",
      " 0. 0. 0. 0. 0. 0. 0. 0. 0. 0. 0. 0. 0. 0. 0. 0. 0. 0. 0. 0. 0. 0. 0. 0.\n",
      " 0. 0. 0. 0. 0. 0. 0. 0. 0. 0. 0. 0. 0. 0. 0. 0. 0. 0. 0. 0. 0. 0. 0. 0.\n",
      " 0. 0. 0. 0. 0. 0. 0. 0. 0. 0. 0. 0. 0. 0. 0. 0. 0. 0. 0. 0. 0. 0. 0. 0.\n",
      " 0. 0. 0. 0. 0. 0. 0. 0. 0. 0. 0. 0. 0. 0. 0. 0. 0. 0. 0. 0. 0. 0. 0. 0.\n",
      " 0. 0. 0. 0. 0. 0. 0. 0. 0. 0. 0. 0. 0. 0. 0. 0. 0. 0. 0. 0. 0. 0. 0. 0.\n",
      " 0. 0. 0. 0. 0. 0. 0. 0. 0. 0. 0. 0. 0. 0. 0. 0. 0. 0. 0. 0. 0. 0. 0. 0.\n",
      " 0. 0. 0. 0. 0. 0. 0. 0. 0. 0. 0. 0. 0. 0. 0. 0. 0. 0. 0. 0. 0. 0. 0. 0.\n",
      " 0. 0. 0. 0. 0. 0. 0. 0. 0. 0. 0. 0. 0. 0. 0. 0. 0. 0. 0. 0. 0. 0. 0. 0.\n",
      " 0. 0. 0. 0. 0. 0. 0. 0. 0. 0. 0. 0. 0. 0. 0. 0. 0. 0. 0. 0. 0. 0. 0. 0.\n",
      " 0. 0. 0. 0. 0. 0. 0. 0. 0. 0. 0. 0. 0. 0. 0. 0. 0. 0. 0. 0. 0. 0. 0. 0.\n",
      " 0. 0. 0. 0. 0. 0. 0. 0. 0. 0. 0. 0. 0. 0. 0. 0. 0. 0. 0. 0. 0. 0. 0. 0.\n",
      " 0. 0. 0. 0. 0. 0. 0. 0. 0. 0. 0. 0. 0. 0. 0. 0. 0. 0. 0. 0. 0. 0. 0. 0.\n",
      " 0. 0. 0. 0. 0. 0. 0. 0. 0. 0. 0. 0. 0. 0. 0. 0. 0. 0. 0. 0. 0. 0. 0. 0.\n",
      " 0. 0. 0. 0. 0. 0. 0. 0. 0. 0. 0. 0. 0. 0. 0. 0. 0. 0. 0. 0. 0. 0. 0. 0.\n",
      " 0. 1. 0. 0. 0. 0. 0. 0. 0. 0. 0. 0. 0. 0. 0. 0. 0. 0. 0. 0. 0. 0. 0. 0.\n",
      " 0. 0. 0. 0. 0. 0. 0. 0. 0. 0. 0. 0. 0. 0. 0. 0. 0. 0. 0. 0. 0. 0. 0. 0.\n",
      " 0. 0. 0. 0. 0. 0. 0. 0. 0.]\n"
     ]
    }
   ],
   "source": [
    "predicted= model2.predict(X_test)\n",
    "print (predicted)"
   ]
  },
  {
   "cell_type": "code",
   "execution_count": 67,
   "metadata": {},
   "outputs": [
    {
     "name": "stdout",
     "output_type": "stream",
     "text": [
      "[[0.84486995 0.15513005]\n",
      " [0.81781945 0.18218055]\n",
      " [0.70969833 0.29030167]\n",
      " [0.8333989  0.1666011 ]\n",
      " [0.74826432 0.25173568]\n",
      " [0.79886802 0.20113198]\n",
      " [0.83988517 0.16011483]\n",
      " [0.83799422 0.16200578]\n",
      " [0.96269517 0.03730483]\n",
      " [0.93887216 0.06112784]\n",
      " [0.95334151 0.04665849]\n",
      " [0.83675529 0.16324471]\n",
      " [0.87162644 0.12837356]\n",
      " [0.87448821 0.12551179]\n",
      " [0.89099737 0.10900263]\n",
      " [0.89534392 0.10465608]\n",
      " [0.89244733 0.10755267]\n",
      " [0.79857674 0.20142326]\n",
      " [0.79683689 0.20316311]\n",
      " [0.88468787 0.11531213]\n",
      " [0.7233093  0.2766907 ]\n",
      " [0.94914488 0.05085512]\n",
      " [0.873328   0.126672  ]\n",
      " [0.8239825  0.1760175 ]\n",
      " [0.56761923 0.43238077]\n",
      " [0.78254481 0.21745519]\n",
      " [0.92176696 0.07823304]\n",
      " [0.92419768 0.07580232]\n",
      " [0.65541899 0.34458101]\n",
      " [0.84903581 0.15096419]\n",
      " [0.87308215 0.12691785]\n",
      " [0.83227606 0.16772394]\n",
      " [0.86784892 0.13215108]\n",
      " [0.95838338 0.04161662]\n",
      " [0.84415026 0.15584974]\n",
      " [0.87387704 0.12612296]\n",
      " [0.89166726 0.10833274]\n",
      " [0.69540824 0.30459176]\n",
      " [0.89374993 0.10625007]\n",
      " [0.81544916 0.18455084]\n",
      " [0.91637479 0.08362521]\n",
      " [0.80305024 0.19694976]\n",
      " [0.94042109 0.05957891]\n",
      " [0.92683417 0.07316583]\n",
      " [0.90019892 0.09980108]\n",
      " [0.86148967 0.13851033]\n",
      " [0.79831945 0.20168055]\n",
      " [0.85901453 0.14098547]\n",
      " [0.67808646 0.32191354]\n",
      " [0.77281622 0.22718378]\n",
      " [0.93037753 0.06962247]\n",
      " [0.76086225 0.23913775]\n",
      " [0.84438914 0.15561086]\n",
      " [0.83610354 0.16389646]\n",
      " [0.87805821 0.12194179]\n",
      " [0.78692724 0.21307276]\n",
      " [0.88349309 0.11650691]\n",
      " [0.81116162 0.18883838]\n",
      " [0.81117321 0.18882679]\n",
      " [0.80575613 0.19424387]\n",
      " [0.93579609 0.06420391]\n",
      " [0.688176   0.311824  ]\n",
      " [0.92849108 0.07150892]\n",
      " [0.85369428 0.14630572]\n",
      " [0.80041452 0.19958548]\n",
      " [0.86449829 0.13550171]\n",
      " [0.92104963 0.07895037]\n",
      " [0.85500027 0.14499973]\n",
      " [0.89770265 0.10229735]\n",
      " [0.71719128 0.28280872]\n",
      " [0.94126596 0.05873404]\n",
      " [0.73857783 0.26142217]\n",
      " [0.86560678 0.13439322]\n",
      " [0.85015186 0.14984814]\n",
      " [0.74542085 0.25457915]\n",
      " [0.73096946 0.26903054]\n",
      " [0.93811636 0.06188364]\n",
      " [0.95835988 0.04164012]\n",
      " [0.77128879 0.22871121]\n",
      " [0.87796947 0.12203053]\n",
      " [0.90000168 0.09999832]\n",
      " [0.76175518 0.23824482]\n",
      " [0.74979797 0.25020203]\n",
      " [0.86394931 0.13605069]\n",
      " [0.84650003 0.15349997]\n",
      " [0.67431843 0.32568157]\n",
      " [0.97859064 0.02140936]\n",
      " [0.94814728 0.05185272]\n",
      " [0.89243517 0.10756483]\n",
      " [0.80886153 0.19113847]\n",
      " [0.63363064 0.36636936]\n",
      " [0.82568447 0.17431553]\n",
      " [0.7132523  0.2867477 ]\n",
      " [0.87470402 0.12529598]\n",
      " [0.87720323 0.12279677]\n",
      " [0.79737885 0.20262115]\n",
      " [0.72043873 0.27956127]\n",
      " [0.68763908 0.31236092]\n",
      " [0.84493456 0.15506544]\n",
      " [0.89065995 0.10934005]\n",
      " [0.71662647 0.28337353]\n",
      " [0.7734507  0.2265493 ]\n",
      " [0.98138011 0.01861989]\n",
      " [0.90750672 0.09249328]\n",
      " [0.77582468 0.22417532]\n",
      " [0.92673337 0.07326663]\n",
      " [0.86353857 0.13646143]\n",
      " [0.72295523 0.27704477]\n",
      " [0.8920188  0.1079812 ]\n",
      " [0.8489769  0.1510231 ]\n",
      " [0.82059181 0.17940819]\n",
      " [0.95829455 0.04170545]\n",
      " [0.93909771 0.06090229]\n",
      " [0.79363418 0.20636582]\n",
      " [0.82261212 0.17738788]\n",
      " [0.92030131 0.07969869]\n",
      " [0.91096333 0.08903667]\n",
      " [0.8284653  0.1715347 ]\n",
      " [0.95605019 0.04394981]\n",
      " [0.91842578 0.08157422]\n",
      " [0.86332985 0.13667015]\n",
      " [0.86711637 0.13288363]\n",
      " [0.86263252 0.13736748]\n",
      " [0.7741899  0.2258101 ]\n",
      " [0.91050378 0.08949622]\n",
      " [0.96342182 0.03657818]\n",
      " [0.94586461 0.05413539]\n",
      " [0.79904963 0.20095037]\n",
      " [0.88559572 0.11440428]\n",
      " [0.78074735 0.21925265]\n",
      " [0.97331079 0.02668921]\n",
      " [0.8935613  0.1064387 ]\n",
      " [0.78765989 0.21234011]\n",
      " [0.82865147 0.17134853]\n",
      " [0.95107462 0.04892538]\n",
      " [0.96092381 0.03907619]\n",
      " [0.70707524 0.29292476]\n",
      " [0.93585407 0.06414593]\n",
      " [0.70650671 0.29349329]\n",
      " [0.79616233 0.20383767]\n",
      " [0.82086012 0.17913988]\n",
      " [0.90418106 0.09581894]\n",
      " [0.79133429 0.20866571]\n",
      " [0.90521009 0.09478991]\n",
      " [0.89931661 0.10068339]\n",
      " [0.91708737 0.08291263]\n",
      " [0.96823633 0.03176367]\n",
      " [0.94439146 0.05560854]\n",
      " [0.92343906 0.07656094]\n",
      " [0.62636116 0.37363884]\n",
      " [0.84832243 0.15167757]\n",
      " [0.83443127 0.16556873]\n",
      " [0.80770037 0.19229963]\n",
      " [0.95569944 0.04430056]\n",
      " [0.92583201 0.07416799]\n",
      " [0.95033645 0.04966355]\n",
      " [0.97511056 0.02488944]\n",
      " [0.76588891 0.23411109]\n",
      " [0.88400659 0.11599341]\n",
      " [0.84578031 0.15421969]\n",
      " [0.94645711 0.05354289]\n",
      " [0.92359705 0.07640295]\n",
      " [0.76663277 0.23336723]\n",
      " [0.76164829 0.23835171]\n",
      " [0.95660438 0.04339562]\n",
      " [0.87546177 0.12453823]\n",
      " [0.78404053 0.21595947]\n",
      " [0.78402658 0.21597342]\n",
      " [0.77927445 0.22072555]\n",
      " [0.93169878 0.06830122]\n",
      " [0.89653181 0.10346819]\n",
      " [0.93673389 0.06326611]\n",
      " [0.93526441 0.06473559]\n",
      " [0.66248761 0.33751239]\n",
      " [0.93087983 0.06912017]\n",
      " [0.76010707 0.23989293]\n",
      " [0.76282145 0.23717855]\n",
      " [0.93787036 0.06212964]\n",
      " [0.81719511 0.18280489]\n",
      " [0.82639613 0.17360387]\n",
      " [0.63569998 0.36430002]\n",
      " [0.9065701  0.0934299 ]\n",
      " [0.91335858 0.08664142]\n",
      " [0.85545868 0.14454132]\n",
      " [0.93197338 0.06802662]\n",
      " [0.7473587  0.2526413 ]\n",
      " [0.87053629 0.12946371]\n",
      " [0.84574727 0.15425273]\n",
      " [0.79838166 0.20161834]\n",
      " [0.62790697 0.37209303]\n",
      " [0.74393203 0.25606797]\n",
      " [0.72301458 0.27698542]\n",
      " [0.86198039 0.13801961]\n",
      " [0.87660376 0.12339624]\n",
      " [0.76536471 0.23463529]\n",
      " [0.88160373 0.11839627]\n",
      " [0.7627407  0.2372593 ]\n",
      " [0.9041333  0.0958667 ]\n",
      " [0.78861314 0.21138686]\n",
      " [0.88989943 0.11010057]\n",
      " [0.86234671 0.13765329]\n",
      " [0.79980629 0.20019371]\n",
      " [0.72324255 0.27675745]\n",
      " [0.86948526 0.13051474]\n",
      " [0.7882034  0.2117966 ]\n",
      " [0.7425127  0.2574873 ]\n",
      " [0.80828712 0.19171288]\n",
      " [0.9086443  0.0913557 ]\n",
      " [0.70944277 0.29055723]\n",
      " [0.8764905  0.1235095 ]\n",
      " [0.86036958 0.13963042]\n",
      " [0.75090511 0.24909489]\n",
      " [0.85303506 0.14696494]\n",
      " [0.63201275 0.36798725]\n",
      " [0.93773186 0.06226814]\n",
      " [0.83017545 0.16982455]\n",
      " [0.94408087 0.05591913]\n",
      " [0.84099357 0.15900643]\n",
      " [0.81069553 0.18930447]\n",
      " [0.81872635 0.18127365]\n",
      " [0.88058233 0.11941767]\n",
      " [0.62485174 0.37514826]\n",
      " [0.60314566 0.39685434]\n",
      " [0.99032114 0.00967886]\n",
      " [0.67230806 0.32769194]\n",
      " [0.91798118 0.08201882]\n",
      " [0.92366048 0.07633952]\n",
      " [0.71846487 0.28153513]\n",
      " [0.58999461 0.41000539]\n",
      " [0.76895539 0.23104461]\n",
      " [0.95659945 0.04340055]\n",
      " [0.88772993 0.11227007]\n",
      " [0.86842587 0.13157413]\n",
      " [0.92521427 0.07478573]\n",
      " [0.88495072 0.11504928]\n",
      " [0.81365094 0.18634906]\n",
      " [0.81328788 0.18671212]\n",
      " [0.91637504 0.08362496]\n",
      " [0.72592224 0.27407776]\n",
      " [0.94748155 0.05251845]\n",
      " [0.91190475 0.08809525]\n",
      " [0.70533597 0.29466403]\n",
      " [0.97865626 0.02134374]\n",
      " [0.86319929 0.13680071]\n",
      " [0.89669865 0.10330135]\n",
      " [0.83157287 0.16842713]\n",
      " [0.84018592 0.15981408]\n",
      " [0.88498066 0.11501934]\n",
      " [0.88807792 0.11192208]\n",
      " [0.88177462 0.11822538]\n",
      " [0.82473124 0.17526876]\n",
      " [0.88081038 0.11918962]\n",
      " [0.58449421 0.41550579]\n",
      " [0.89343604 0.10656396]\n",
      " [0.90273046 0.09726954]\n",
      " [0.82957009 0.17042991]\n",
      " [0.98417707 0.01582293]\n",
      " [0.78487558 0.21512442]\n",
      " [0.62181111 0.37818889]\n",
      " [0.83449049 0.16550951]\n",
      " [0.84682965 0.15317035]\n",
      " [0.83215807 0.16784193]\n",
      " [0.85234002 0.14765998]\n",
      " [0.7255065  0.2744935 ]\n",
      " [0.86792516 0.13207484]\n",
      " [0.91008999 0.08991001]\n",
      " [0.82912382 0.17087618]\n",
      " [0.82482619 0.17517381]\n",
      " [0.70794367 0.29205633]\n",
      " [0.87644759 0.12355241]\n",
      " [0.81971917 0.18028083]\n",
      " [0.87087474 0.12912526]\n",
      " [0.62813519 0.37186481]\n",
      " [0.8945461  0.1054539 ]\n",
      " [0.86961515 0.13038485]\n",
      " [0.92977033 0.07022967]\n",
      " [0.82767252 0.17232748]\n",
      " [0.88520377 0.11479623]\n",
      " [0.9139648  0.0860352 ]\n",
      " [0.81032741 0.18967259]\n",
      " [0.64263165 0.35736835]\n",
      " [0.85613384 0.14386616]\n",
      " [0.76602346 0.23397654]\n",
      " [0.82907052 0.17092948]\n",
      " [0.99291162 0.00708838]\n",
      " [0.86881418 0.13118582]\n",
      " [0.88647759 0.11352241]\n",
      " [0.83558507 0.16441493]\n",
      " [0.91680305 0.08319695]\n",
      " [0.85724607 0.14275393]\n",
      " [0.89455581 0.10544419]\n",
      " [0.82136183 0.17863817]\n",
      " [0.87102638 0.12897362]\n",
      " [0.87128988 0.12871012]\n",
      " [0.88219635 0.11780365]\n",
      " [0.7806974  0.2193026 ]\n",
      " [0.76392083 0.23607917]\n",
      " [0.87124878 0.12875122]\n",
      " [0.62897996 0.37102004]\n",
      " [0.94288267 0.05711733]\n",
      " [0.90299557 0.09700443]\n",
      " [0.73622212 0.26377788]\n",
      " [0.66696395 0.33303605]\n",
      " [0.8844058  0.1155942 ]\n",
      " [0.8745552  0.1254448 ]\n",
      " [0.97667542 0.02332458]\n",
      " [0.84264846 0.15735154]\n",
      " [0.63424396 0.36575604]\n",
      " [0.9133194  0.0866806 ]\n",
      " [0.81229611 0.18770389]\n",
      " [0.87483952 0.12516048]\n",
      " [0.89593097 0.10406903]\n",
      " [0.88588698 0.11411302]\n",
      " [0.84070256 0.15929744]\n",
      " [0.78233432 0.21766568]\n",
      " [0.81482565 0.18517435]\n",
      " [0.86091141 0.13908859]\n",
      " [0.7771708  0.2228292 ]\n",
      " [0.70346974 0.29653026]\n",
      " [0.89692722 0.10307278]\n",
      " [0.59469507 0.40530493]\n",
      " [0.9246971  0.0753029 ]\n",
      " [0.71769641 0.28230359]\n",
      " [0.65066794 0.34933206]\n",
      " [0.91851427 0.08148573]\n",
      " [0.93401574 0.06598426]\n",
      " [0.88260813 0.11739187]\n",
      " [0.88990266 0.11009734]\n",
      " [0.95894802 0.04105198]\n",
      " [0.90078967 0.09921033]\n",
      " [0.93790913 0.06209087]\n",
      " [0.84142225 0.15857775]\n",
      " [0.88502953 0.11497047]\n",
      " [0.83070866 0.16929134]\n",
      " [0.82693951 0.17306049]\n",
      " [0.9414194  0.0585806 ]\n",
      " [0.87553784 0.12446216]\n",
      " [0.91212396 0.08787604]\n",
      " [0.84249694 0.15750306]\n",
      " [0.82954108 0.17045892]\n",
      " [0.76911501 0.23088499]\n",
      " [0.82804673 0.17195327]\n",
      " [0.79667474 0.20332526]\n",
      " [0.81897715 0.18102285]\n",
      " [0.91877585 0.08122415]\n",
      " [0.92099647 0.07900353]\n",
      " [0.65824163 0.34175837]\n",
      " [0.99125414 0.00874586]\n",
      " [0.7319432  0.2680568 ]\n",
      " [0.80742457 0.19257543]\n",
      " [0.74386246 0.25613754]\n",
      " [0.64752842 0.35247158]\n",
      " [0.77399618 0.22600382]\n",
      " [0.85854617 0.14145383]\n",
      " [0.87016353 0.12983647]\n",
      " [0.85923837 0.14076163]\n",
      " [0.85159724 0.14840276]\n",
      " [0.83957332 0.16042668]\n",
      " [0.9094523  0.0905477 ]\n",
      " [0.84225742 0.15774258]\n",
      " [0.97871764 0.02128236]\n",
      " [0.90737508 0.09262492]\n",
      " [0.92813654 0.07186346]\n",
      " [0.85534287 0.14465713]\n",
      " [0.77569812 0.22430188]\n",
      " [0.95147168 0.04852832]\n",
      " [0.95033682 0.04966318]\n",
      " [0.72363559 0.27636441]\n",
      " [0.88688842 0.11311158]\n",
      " [0.81519277 0.18480723]\n",
      " [0.94132283 0.05867717]\n",
      " [0.86708627 0.13291373]\n",
      " [0.83777459 0.16222541]\n",
      " [0.91330871 0.08669129]\n",
      " [0.76382022 0.23617978]\n",
      " [0.93420381 0.06579619]\n",
      " [0.92291608 0.07708392]\n",
      " [0.90995304 0.09004696]\n",
      " [0.73838243 0.26161757]\n",
      " [0.92377565 0.07622435]\n",
      " [0.78057403 0.21942597]\n",
      " [0.90493018 0.09506982]\n",
      " [0.88680489 0.11319511]\n",
      " [0.78479787 0.21520213]\n",
      " [0.88670605 0.11329395]\n",
      " [0.49120089 0.50879911]\n",
      " [0.95274018 0.04725982]\n",
      " [0.70369493 0.29630507]\n",
      " [0.87703763 0.12296237]\n",
      " [0.80802817 0.19197183]\n",
      " [0.85608585 0.14391415]\n",
      " [0.96424383 0.03575617]\n",
      " [0.82625894 0.17374106]\n",
      " [0.86877642 0.13122358]\n",
      " [0.59619724 0.40380276]\n",
      " [0.82499863 0.17500137]\n",
      " [0.92846424 0.07153576]\n",
      " [0.82198189 0.17801811]\n",
      " [0.91736184 0.08263816]\n",
      " [0.89332984 0.10667016]\n",
      " [0.66791059 0.33208941]\n",
      " [0.82834057 0.17165943]\n",
      " [0.9675386  0.0324614 ]\n",
      " [0.87414092 0.12585908]\n",
      " [0.90422916 0.09577084]\n",
      " [0.87789235 0.12210765]\n",
      " [0.82594408 0.17405592]\n",
      " [0.85467483 0.14532517]\n",
      " [0.84692187 0.15307813]\n",
      " [0.84882576 0.15117424]\n",
      " [0.83365634 0.16634366]\n",
      " [0.94179129 0.05820871]\n",
      " [0.83891672 0.16108328]\n",
      " [0.7478273  0.2521727 ]\n",
      " [0.70676261 0.29323739]\n",
      " [0.83622855 0.16377145]\n",
      " [0.82373413 0.17626587]\n",
      " [0.81217355 0.18782645]\n",
      " [0.87930932 0.12069068]\n",
      " [0.90019892 0.09980108]\n",
      " [0.83810667 0.16189333]\n",
      " [0.69723561 0.30276439]\n",
      " [0.96602929 0.03397071]\n",
      " [0.95634738 0.04365262]\n",
      " [0.89529622 0.10470378]\n",
      " [0.89092101 0.10907899]\n",
      " [0.85706132 0.14293868]\n",
      " [0.80226351 0.19773649]\n",
      " [0.63102908 0.36897092]\n",
      " [0.93834925 0.06165075]\n",
      " [0.67112473 0.32887527]\n",
      " [0.70656703 0.29343297]\n",
      " [0.94562077 0.05437923]\n",
      " [0.78092132 0.21907868]\n",
      " [0.90423499 0.09576501]\n",
      " [0.82492028 0.17507972]\n",
      " [0.89801096 0.10198904]\n",
      " [0.86614748 0.13385252]\n",
      " [0.63261894 0.36738106]\n",
      " [0.93275773 0.06724227]\n",
      " [0.9051375  0.0948625 ]]\n"
     ]
    }
   ],
   "source": [
    "probs = model2.predict_proba(X_test)\n",
    "print (probs)"
   ]
  },
  {
   "cell_type": "code",
   "execution_count": 68,
   "metadata": {},
   "outputs": [
    {
     "name": "stdout",
     "output_type": "stream",
     "text": [
      "0.8435374149659864\n",
      "0.6504428186368887\n"
     ]
    }
   ],
   "source": [
    "from sklearn import metrics\n",
    "\n",
    "print (metrics.accuracy_score(y_test, predicted))\n",
    "print (metrics.roc_auc_score(y_test, probs[:, 1]))"
   ]
  },
  {
   "cell_type": "code",
   "execution_count": 69,
   "metadata": {},
   "outputs": [
    {
     "name": "stdout",
     "output_type": "stream",
     "text": [
      "[[371   0]\n",
      " [ 69   1]]\n",
      "              precision    recall  f1-score   support\n",
      "\n",
      "         0.0       0.84      1.00      0.91       371\n",
      "         1.0       1.00      0.01      0.03        70\n",
      "\n",
      "    accuracy                           0.84       441\n",
      "   macro avg       0.92      0.51      0.47       441\n",
      "weighted avg       0.87      0.84      0.77       441\n",
      "\n"
     ]
    }
   ],
   "source": [
    "print (metrics.confusion_matrix(y_test, predicted))\n",
    "print (metrics.classification_report(y_test, predicted))"
   ]
  },
  {
   "cell_type": "code",
   "execution_count": 70,
   "metadata": {},
   "outputs": [
    {
     "name": "stdout",
     "output_type": "stream",
     "text": [
      "      Intercept  Department[T.Research & Development]  Department[T.Sales]  \\\n",
      "338         1.0                                   0.0                  1.0   \n",
      "363         1.0                                   0.0                  1.0   \n",
      "759         1.0                                   0.0                  0.0   \n",
      "793         1.0                                   1.0                  0.0   \n",
      "581         1.0                                   1.0                  0.0   \n",
      "...         ...                                   ...                  ...   \n",
      "763         1.0                                   0.0                  1.0   \n",
      "835         1.0                                   0.0                  0.0   \n",
      "1216        1.0                                   0.0                  1.0   \n",
      "559         1.0                                   1.0                  0.0   \n",
      "684         1.0                                   0.0                  1.0   \n",
      "\n",
      "       Age  DistanceFromHome  Education  EducationField  YearsAtCompany  \n",
      "338   30.0               5.0        3.0             3.0            10.0  \n",
      "363   33.0               5.0        3.0             3.0             1.0  \n",
      "759   45.0              24.0        4.0             2.0             6.0  \n",
      "793   28.0              15.0        2.0             1.0             4.0  \n",
      "581   30.0               1.0        3.0             1.0             2.0  \n",
      "...    ...               ...        ...             ...             ...  \n",
      "763   34.0              10.0        4.0             1.0             1.0  \n",
      "835   35.0               8.0        4.0             5.0             5.0  \n",
      "1216  43.0               2.0        3.0             2.0            10.0  \n",
      "559   38.0               2.0        5.0             2.0             1.0  \n",
      "684   40.0              10.0        4.0             3.0             1.0  \n",
      "\n",
      "[1029 rows x 8 columns]\n"
     ]
    }
   ],
   "source": [
    "print (X_train)"
   ]
  },
  {
   "cell_type": "code",
   "execution_count": null,
   "metadata": {},
   "outputs": [],
   "source": []
  },
  {
   "cell_type": "code",
   "execution_count": null,
   "metadata": {},
   "outputs": [],
   "source": []
  }
 ],
 "metadata": {
  "kernelspec": {
   "display_name": "Python 3",
   "language": "python",
   "name": "python3"
  },
  "language_info": {
   "codemirror_mode": {
    "name": "ipython",
    "version": 3
   },
   "file_extension": ".py",
   "mimetype": "text/x-python",
   "name": "python",
   "nbconvert_exporter": "python",
   "pygments_lexer": "ipython3",
   "version": "3.7.6"
  }
 },
 "nbformat": 4,
 "nbformat_minor": 4
}
